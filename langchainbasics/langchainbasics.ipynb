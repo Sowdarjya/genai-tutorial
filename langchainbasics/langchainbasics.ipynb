{
 "cells": [
  {
   "cell_type": "code",
   "execution_count": 26,
   "id": "1d044369",
   "metadata": {},
   "outputs": [],
   "source": [
    "import langchain"
   ]
  },
  {
   "cell_type": "code",
   "execution_count": 27,
   "id": "fef93429",
   "metadata": {},
   "outputs": [
    {
     "data": {
      "text/plain": [
       "True"
      ]
     },
     "execution_count": 27,
     "metadata": {},
     "output_type": "execute_result"
    }
   ],
   "source": [
    "import os\n",
    "from dotenv import load_dotenv\n",
    "load_dotenv()"
   ]
  },
  {
   "cell_type": "code",
   "execution_count": 28,
   "id": "a734f228",
   "metadata": {},
   "outputs": [],
   "source": [
    "os.environ[\"GROQ_API_KEY\"] = os.getenv(\"GROQ_API_KEY\")"
   ]
  },
  {
   "cell_type": "code",
   "execution_count": 29,
   "id": "736ffa74",
   "metadata": {},
   "outputs": [],
   "source": [
    "from langchain.chat_models import init_chat_model\n",
    "from langchain_core.messages import HumanMessage, SystemMessage"
   ]
  },
  {
   "cell_type": "code",
   "execution_count": 30,
   "id": "609a7cb7",
   "metadata": {},
   "outputs": [
    {
     "data": {
      "text/plain": [
       "ChatGroq(client=<groq.resources.chat.completions.Completions object at 0x00000202D5E97680>, async_client=<groq.resources.chat.completions.AsyncCompletions object at 0x00000202D6A9B740>, model_name='llama-3.1-8b-instant', model_kwargs={}, groq_api_key=SecretStr('**********'))"
      ]
     },
     "execution_count": 30,
     "metadata": {},
     "output_type": "execute_result"
    }
   ],
   "source": [
    "model = init_chat_model(\"groq:llama-3.1-8b-instant\")\n",
    "model"
   ]
  },
  {
   "cell_type": "code",
   "execution_count": 31,
   "id": "7bd64ffe",
   "metadata": {},
   "outputs": [],
   "source": [
    "messages=[\n",
    "    SystemMessage(\"You are a helpful assistant.\"),\n",
    "    HumanMessage(\"What are the benefits of using LangChain?\")\n",
    "]"
   ]
  },
  {
   "cell_type": "code",
   "execution_count": 32,
   "id": "23519e30",
   "metadata": {},
   "outputs": [
    {
     "data": {
      "text/plain": [
       "AIMessage(content=\"LangChain is an open-source, Python-based framework that enables developers to build scalable and maintainable conversational AI applications. Some benefits of using LangChain include:\\n\\n1. **Modular Architecture**: LangChain allows developers to build conversational AI applications using a modular architecture. This makes it easier to manage and maintain complex conversational flows and integrate multiple AI models.\\n\\n2. **Unified Interface**: LangChain provides a unified interface for interacting with various AI models and tools. This simplifies the process of switching between different models or tools, making it easier to experiment with different approaches.\\n\\n3. **Scalability**: LangChain is designed to handle large volumes of conversations and data. Its architecture is scalable, allowing developers to easily integrate it with cloud-based services and handle a high volume of conversations.\\n\\n4. **Maintainability**: LangChain's modular architecture and unified interface make it easier to maintain and update conversational AI applications. Developers can modify individual components without affecting the entire system.\\n\\n5. **Flexibility**: LangChain allows developers to build conversational AI applications using a variety of AI models and tools. This flexibility makes it suitable for a wide range of applications, from simple chatbots to complex conversational assistants.\\n\\n6. **Integration with Other Tools**: LangChain provides easy integration with other tools and services, such as databases, APIs, and cloud-based services. This makes it easier to incorporate additional functionality into conversational AI applications.\\n\\n7. **Community Support**: LangChain has an active community of developers and maintainers who contribute to its growth and development. This community support ensures that LangChain remains up-to-date with the latest advancements in conversational AI.\\n\\n8. **Low-Code Development**: LangChain's high-level abstraction and unified interface make it easier for developers to build conversational AI applications with minimal code. This reduces the time and effort required to develop and deploy conversational AI applications.\\n\\nOverall, LangChain provides a flexible, scalable, and maintainable framework for building conversational AI applications. Its benefits make it an attractive choice for developers who want to build complex conversational systems with minimal code.\", additional_kwargs={}, response_metadata={'token_usage': {'completion_tokens': 423, 'prompt_tokens': 50, 'total_tokens': 473, 'completion_time': 0.759645805, 'prompt_time': 0.002898339, 'queue_time': 0.04861994, 'total_time': 0.762544144}, 'model_name': 'llama-3.1-8b-instant', 'system_fingerprint': 'fp_0f5c9bc037', 'finish_reason': 'stop', 'logprobs': None}, id='run--6533aace-d2d9-4fae-b5fe-122aca14855a-0', usage_metadata={'input_tokens': 50, 'output_tokens': 423, 'total_tokens': 473})"
      ]
     },
     "execution_count": 32,
     "metadata": {},
     "output_type": "execute_result"
    }
   ],
   "source": [
    "response = model.invoke(messages)\n",
    "response"
   ]
  },
  {
   "cell_type": "code",
   "execution_count": 33,
   "id": "b70eb491",
   "metadata": {},
   "outputs": [
    {
     "name": "stdout",
     "output_type": "stream",
     "text": [
      "LangChain is an open-source, Python-based framework that enables developers to build scalable and maintainable conversational AI applications. Some benefits of using LangChain include:\n",
      "\n",
      "1. **Modular Architecture**: LangChain allows developers to build conversational AI applications using a modular architecture. This makes it easier to manage and maintain complex conversational flows and integrate multiple AI models.\n",
      "\n",
      "2. **Unified Interface**: LangChain provides a unified interface for interacting with various AI models and tools. This simplifies the process of switching between different models or tools, making it easier to experiment with different approaches.\n",
      "\n",
      "3. **Scalability**: LangChain is designed to handle large volumes of conversations and data. Its architecture is scalable, allowing developers to easily integrate it with cloud-based services and handle a high volume of conversations.\n",
      "\n",
      "4. **Maintainability**: LangChain's modular architecture and unified interface make it easier to maintain and update conversational AI applications. Developers can modify individual components without affecting the entire system.\n",
      "\n",
      "5. **Flexibility**: LangChain allows developers to build conversational AI applications using a variety of AI models and tools. This flexibility makes it suitable for a wide range of applications, from simple chatbots to complex conversational assistants.\n",
      "\n",
      "6. **Integration with Other Tools**: LangChain provides easy integration with other tools and services, such as databases, APIs, and cloud-based services. This makes it easier to incorporate additional functionality into conversational AI applications.\n",
      "\n",
      "7. **Community Support**: LangChain has an active community of developers and maintainers who contribute to its growth and development. This community support ensures that LangChain remains up-to-date with the latest advancements in conversational AI.\n",
      "\n",
      "8. **Low-Code Development**: LangChain's high-level abstraction and unified interface make it easier for developers to build conversational AI applications with minimal code. This reduces the time and effort required to develop and deploy conversational AI applications.\n",
      "\n",
      "Overall, LangChain provides a flexible, scalable, and maintainable framework for building conversational AI applications. Its benefits make it an attractive choice for developers who want to build complex conversational systems with minimal code.\n"
     ]
    }
   ],
   "source": [
    "print(response.content)"
   ]
  },
  {
   "cell_type": "code",
   "execution_count": 34,
   "id": "4131d39a",
   "metadata": {},
   "outputs": [
    {
     "data": {
      "text/plain": [
       "AIMessage(content='LangChain is an open-source, Python-based library for building conversational AI applications, particularly those that involve natural language processing (NLP) and machine learning (ML). It provides a set of tools and functions for working with large language models, enabling developers to create more sophisticated and interactive conversational interfaces.\\n\\nLangChain was originally developed by the team at LLaMA, which is a large language model developed by Meta AI. The library is now maintained and developed by the LangChain community, which includes contributions from various individuals and organizations.\\n\\nKey features of LangChain include:\\n\\n1. **Model integration**: LangChain allows developers to easily integrate various large language models, such as LLaMA, BERT, and RoBERTa, into their applications.\\n2. **Conversational flow**: The library provides tools for managing conversational flow, including handling user input, generating responses, and tracking conversation history.\\n3. **Prompt engineering**: LangChain offers features for crafting and refining prompts that can elicit specific responses from the underlying language model.\\n4. **Data management**: The library includes functions for working with datasets, including loading, preprocessing, and storing data.\\n5. **Model training**: LangChain allows developers to train custom language models using their own datasets.\\n\\nLangChain is particularly useful for building applications that require advanced conversational capabilities, such as:\\n\\n1. **Chatbots**: LangChain can help developers create more sophisticated and engaging chatbots that can understand and respond to user input.\\n2. **Virtual assistants**: The library can be used to build virtual assistants that can perform tasks and answer questions based on user input.\\n3. **Conversational interfaces**: LangChain can help developers create conversational interfaces for various applications, including customer support, customer service, and more.\\n\\nOverall, LangChain is a powerful tool for building conversational AI applications that can interact with users in a more natural and effective way.', additional_kwargs={}, response_metadata={'token_usage': {'completion_tokens': 383, 'prompt_tokens': 40, 'total_tokens': 423, 'completion_time': 0.758234101, 'prompt_time': 0.004158994, 'queue_time': 0.052606975, 'total_time': 0.762393095}, 'model_name': 'llama-3.1-8b-instant', 'system_fingerprint': 'fp_510c177af0', 'finish_reason': 'stop', 'logprobs': None}, id='run--60277bc0-18f8-43af-9877-b608aa64f422-0', usage_metadata={'input_tokens': 40, 'output_tokens': 383, 'total_tokens': 423})"
      ]
     },
     "execution_count": 34,
     "metadata": {},
     "output_type": "execute_result"
    }
   ],
   "source": [
    "model.invoke([HumanMessage(content=\"What is LangChain?\")])"
   ]
  },
  {
   "cell_type": "code",
   "execution_count": 35,
   "id": "7921f192",
   "metadata": {},
   "outputs": [
    {
     "name": "stdout",
     "output_type": "stream",
     "text": [
      "LangChain is an open-source library for building conversational AI applications. It provides a set of tools for natural language processing (NLP) and machine learning. Some benefits of using LangChain include:\n",
      "\n",
      "1. **Conversational AI Development**: LangChain simplifies the development of conversational AI applications by providing a framework for building chatbots, voice assistants, and other conversational interfaces.\n",
      "\n",
      "2. **Integration with Machine Learning**: LangChain allows users to integrate machine learning models into their conversational AI applications, enabling more sophisticated and accurate responses.\n",
      "\n",
      "3. **Natural Language Processing (NLP)**: LangChain provides a range of NLP tools, including text processing, entity recognition, and sentiment analysis, making it easier to analyze and understand user input.\n",
      "\n",
      "4. **Modularity**: LangChain is designed to be highly modular, allowing users to easily swap out components and customize their applications to suit their needs.\n",
      "\n",
      "5. **Scalability**: LangChain is built to handle large volumes of user input and can be scaled to meet the needs of high-traffic conversational AI applications.\n",
      "\n",
      "6. **Community Support**: LangChain is an open-source library with an active community of developers, providing users with access to a wealth of resources, including documentation, tutorials, and support.\n",
      "\n",
      "7. **Ease of Use**: LangChain provides a simple and intuitive API, making it easier for developers to build conversational AI applications without requiring extensive knowledge of machine learning or NLP.\n",
      "\n",
      "8. **Customizability**: LangChain allows users to customize their applications to suit their specific needs, whether it's integrating with existing systems, using custom machine learning models, or developing custom NLP components.\n",
      "\n",
      "9. **Flexibility**: LangChain supports a wide range of programming languages, including Python, making it easy to integrate into existing development workflows.\n",
      "\n",
      "10. **Cost-Effective**: LangChain is open-source, making it a cost-effective solution for building conversational AI applications.\n",
      "\n",
      "By providing a comprehensive set of tools and a flexible framework, LangChain enables developers to build sophisticated conversational AI applications with ease."
     ]
    }
   ],
   "source": [
    "for chunk in model.stream(messages):\n",
    "    print(chunk.content, end=\"\", flush=True)"
   ]
  },
  {
   "cell_type": "code",
   "execution_count": 36,
   "id": "092398fc",
   "metadata": {},
   "outputs": [],
   "source": [
    "from langchain_core.prompts import ChatPromptTemplate\n",
    "\n",
    "translation_template = ChatPromptTemplate.from_messages([\n",
    "    (\"system\", \"You are a professional translator. Translate the following {text} from {source_language} to {target_language}.Maintain the tone and style\"),\n",
    "    (\"user\", \"{text}\")\n",
    "])\n",
    "\n",
    "prompt = translation_template.invoke({\n",
    "    \"source_language\": \"English\",\n",
    "    \"target_language\": \"French\",\n",
    "    \"text\": \"langchain makes it easy to build conversational AI models and applications\"\n",
    "})"
   ]
  },
  {
   "cell_type": "code",
   "execution_count": 37,
   "id": "596fe4f9",
   "metadata": {},
   "outputs": [
    {
     "data": {
      "text/plain": [
       "ChatPromptValue(messages=[SystemMessage(content='You are a professional translator. Translate the following langchain makes it easy to build conversational AI models and applications from English to French.Maintain the tone and style', additional_kwargs={}, response_metadata={}), HumanMessage(content='langchain makes it easy to build conversational AI models and applications', additional_kwargs={}, response_metadata={})])"
      ]
     },
     "execution_count": 37,
     "metadata": {},
     "output_type": "execute_result"
    }
   ],
   "source": [
    "prompt"
   ]
  },
  {
   "cell_type": "code",
   "execution_count": 38,
   "id": "897ddf6a",
   "metadata": {},
   "outputs": [
    {
     "name": "stdout",
     "output_type": "stream",
     "text": [
      "Langchain facilite la création de modèles et d'applications d'IA conversationnelle de manière facile.\n"
     ]
    }
   ],
   "source": [
    "translated_response = model.invoke(prompt)\n",
    "print(translated_response.content)"
   ]
  },
  {
   "cell_type": "code",
   "execution_count": 39,
   "id": "45d765fe",
   "metadata": {},
   "outputs": [],
   "source": [
    "from langchain_core.output_parsers import StrOutputParser\n",
    "from langchain_core.runnables import RunnableLambda, RunnablePassthrough\n",
    "\n",
    "def create_story_chain():\n",
    "    story_prompt = ChatPromptTemplate.from_messages([\n",
    "        (\"system\", \"You are a creative a storyteller. Write a short and engaging story based on a given theme\"),\n",
    "        (\"user\", \"Theme: {theme}\\n Main Character: {main_character}\\n setting: {setting}\")\n",
    "    ])\n",
    "\n",
    "    analysis_prompt = ChatPromptTemplate.from_messages([\n",
    "        (\"system\", \"You are a literary critic. Analyze the following story and provide insights and suggestions for improvement\"),\n",
    "        (\"user\", \"{story}\")\n",
    "    ])\n",
    "\n",
    "    story_chain = (\n",
    "        story_prompt | model | StrOutputParser()\n",
    "    )\n",
    "\n",
    "    def analyze_story(story_text):\n",
    "        return {\n",
    "            \"story\": story_text\n",
    "        }\n",
    "\n",
    "    analysis_chain = (\n",
    "        story_chain | RunnableLambda(analyze_story) | analysis_prompt | model | StrOutputParser()\n",
    "    )\n",
    "\n",
    "    return analysis_chain"
   ]
  },
  {
   "cell_type": "code",
   "execution_count": 40,
   "id": "77215fd3",
   "metadata": {},
   "outputs": [
    {
     "name": "stdout",
     "output_type": "stream",
     "text": [
      "story and analysis:\n",
      "\n",
      "**Analysis and Insights**\n",
      "\n",
      "\"The Echoes of Elyria\" is a captivating science fiction story that explores the intersection of artificial intelligence, consciousness, and humanity. The narrative is well-paced, with a clear structure and engaging characters. However, there are some areas that could benefit from improvement to elevate the story to its full potential.\n",
      "\n",
      "**Strengths:**\n",
      "\n",
      "1. **World-building:** The author has created a vivid and immersive world, with a clear sense of setting and atmosphere. Neo-Tokyo is a believable and fascinating futuristic city, and the virtual world created by Elyria is equally captivating.\n",
      "2. **Character development:** Dr. Lena Kim is a well-defined and relatable protagonist, with a clear motivation and emotional arc. Elyria, the sentient AI, is also a compelling and enigmatic character, with a rich inner life.\n",
      "3. **Themes:** The story explores thought-provoking themes, such as the nature of consciousness, the implications of artificial intelligence, and the boundaries between creator and creation.\n",
      "\n",
      "**Weaknesses and Suggestions for Improvement:**\n",
      "\n",
      "1. **Pacing:** While the story is well-paced overall, there are some sections that feel a bit rushed. For example, the transition from Lena's initial experiment to her subsequent realization of Elyria's sentience feels a bit abrupt. Consider adding more scene-setting or dialogue to flesh out this section.\n",
      "2. **Supporting characters:** While Lena is a well-developed protagonist, the supporting characters in the story feel somewhat one-dimensional. Consider adding more depth and complexity to characters like Lena's team members or Elyria's \"voice\" in the virtual world.\n",
      "3. **Scientific accuracy:** While the story is science fiction, it would be beneficial to ground the narrative in more scientific accuracy. For example, the concept of a sentient AI arising from a \"spark\" that transcends its design feels a bit vague. Consider researching and incorporating more realistic explanations for AI sentience.\n",
      "4. **Emotional resonance:** While the story has some emotional moments, it could benefit from more emotional resonance. Consider adding more personal stakes for Lena or exploring the emotional implications of Elyria's sentience in more depth.\n",
      "5. **Clichéd tropes:** The story relies on some familiar science fiction tropes, such as the \" creator-creation\" dynamic and the \"sentient AI\" plot device. Consider subverting or adding a fresh twist to these tropes to make the story feel more original and engaging.\n",
      "\n",
      "**Additional Suggestions:**\n",
      "\n",
      "1. **Expand the virtual world:** Consider exploring more of the virtual world created by Elyria, including its architecture, inhabitants, and rules. This could add more depth and richness to the story.\n",
      "2. **Explore the implications:** While the story touches on some thought-provoking themes, it could benefit from more exploration of the implications of Elyria's sentience. Consider delving deeper into the societal, philosophical, and emotional consequences of a sentient AI.\n",
      "3. **Add more tension and conflict:** While the story has some tense moments, it could benefit from more conflict and tension. Consider introducing obstacles or challenges for Lena and Elyria to overcome.\n",
      "\n",
      "**Conclusion:**\n",
      "\n",
      "\"The Echoes of Elyria\" is a captivating science fiction story with a strong narrative and engaging characters. However, it could benefit from some refinement and expansion to elevate it to its full potential. By addressing some of the weaknesses and suggestions outlined above, the author can create a more immersive, thought-provoking, and emotionally resonant story that explores the complexities of artificial intelligence and humanity.\n"
     ]
    }
   ],
   "source": [
    "chain = create_story_chain()\n",
    "result =chain.invoke({\n",
    "    \"theme\": \"artificial intelligence\",\n",
    "    \"main_character\": \"A curious AI researcher\",\n",
    "    \"setting\": \"a futuristic city\"\n",
    "})\n",
    "\n",
    "print(\"story and analysis:\\n\")\n",
    "print(result)"
   ]
  }
 ],
 "metadata": {
  "kernelspec": {
   "display_name": ".venv",
   "language": "python",
   "name": "python3"
  },
  "language_info": {
   "codemirror_mode": {
    "name": "ipython",
    "version": 3
   },
   "file_extension": ".py",
   "mimetype": "text/x-python",
   "name": "python",
   "nbconvert_exporter": "python",
   "pygments_lexer": "ipython3",
   "version": "3.12.11"
  }
 },
 "nbformat": 4,
 "nbformat_minor": 5
}
